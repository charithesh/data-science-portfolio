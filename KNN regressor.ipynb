{
 "cells": [
  {
   "cell_type": "markdown",
   "metadata": {},
   "source": [
    "# KNN Regressor\n",
    "\n",
    "###  It is the calculation of the average of the K- nearest neighbours from the training data.\n",
    "\n",
    "\n",
    "Below are the asked that are being carried out in this - \n",
    "\n",
    "i.   Implementing KNN regressor function that can accept multiple inputs\n",
    "\n",
    "ii.  Error plots for train and test data w.r.t 1/K\n",
    "\n",
    "iii. Report\n"
   ]
  },
  {
   "cell_type": "code",
   "execution_count": 25,
   "metadata": {
    "collapsed": true
   },
   "outputs": [],
   "source": [
    "# importing required libraries\n",
    "library(reshape2)\n",
    "library(ggplot2)"
   ]
  },
  {
   "cell_type": "markdown",
   "metadata": {},
   "source": [
    "#### Loading training and testing data provided. "
   ]
  },
  {
   "cell_type": "code",
   "execution_count": 26,
   "metadata": {},
   "outputs": [
    {
     "data": {
      "text/html": [
       "<ol class=list-inline>\n",
       "\t<li>42</li>\n",
       "\t<li>2</li>\n",
       "</ol>\n"
      ],
      "text/latex": [
       "\\begin{enumerate*}\n",
       "\\item 42\n",
       "\\item 2\n",
       "\\end{enumerate*}\n"
      ],
      "text/markdown": [
       "1. 42\n",
       "2. 2\n",
       "\n",
       "\n"
      ],
      "text/plain": [
       "[1] 42  2"
      ]
     },
     "metadata": {},
     "output_type": "display_data"
    },
    {
     "data": {
      "text/html": [
       "<table>\n",
       "<thead><tr><th scope=col>x1</th><th scope=col>y</th></tr></thead>\n",
       "<tbody>\n",
       "\t<tr><td>1960.0</td><td>0.71  </td></tr>\n",
       "\t<tr><td>1960.5</td><td>0.85  </td></tr>\n",
       "\t<tr><td>1961.0</td><td>0.61  </td></tr>\n",
       "\t<tr><td>1961.5</td><td>0.92  </td></tr>\n",
       "\t<tr><td>1962.0</td><td>0.72  </td></tr>\n",
       "\t<tr><td>1962.5</td><td>0.92  </td></tr>\n",
       "</tbody>\n",
       "</table>\n"
      ],
      "text/latex": [
       "\\begin{tabular}{r|ll}\n",
       " x1 & y\\\\\n",
       "\\hline\n",
       "\t 1960.0 & 0.71  \\\\\n",
       "\t 1960.5 & 0.85  \\\\\n",
       "\t 1961.0 & 0.61  \\\\\n",
       "\t 1961.5 & 0.92  \\\\\n",
       "\t 1962.0 & 0.72  \\\\\n",
       "\t 1962.5 & 0.92  \\\\\n",
       "\\end{tabular}\n"
      ],
      "text/markdown": [
       "\n",
       "x1 | y | \n",
       "|---|---|---|---|---|---|\n",
       "| 1960.0 | 0.71   | \n",
       "| 1960.5 | 0.85   | \n",
       "| 1961.0 | 0.61   | \n",
       "| 1961.5 | 0.92   | \n",
       "| 1962.0 | 0.72   | \n",
       "| 1962.5 | 0.92   | \n",
       "\n",
       "\n"
      ],
      "text/plain": [
       "  x1     y   \n",
       "1 1960.0 0.71\n",
       "2 1960.5 0.85\n",
       "3 1961.0 0.61\n",
       "4 1961.5 0.92\n",
       "5 1962.0 0.72\n",
       "6 1962.5 0.92"
      ]
     },
     "metadata": {},
     "output_type": "display_data"
    },
    {
     "data": {
      "text/html": [
       "<table>\n",
       "<thead><tr><th scope=col>x1</th><th scope=col>y</th></tr></thead>\n",
       "<tbody>\n",
       "\t<tr><td>1960.25</td><td>0.63   </td></tr>\n",
       "\t<tr><td>1960.75</td><td>0.44   </td></tr>\n",
       "\t<tr><td>1961.25</td><td>0.69   </td></tr>\n",
       "\t<tr><td>1961.75</td><td>0.55   </td></tr>\n",
       "\t<tr><td>1962.25</td><td>0.77   </td></tr>\n",
       "\t<tr><td>1962.75</td><td>0.60   </td></tr>\n",
       "</tbody>\n",
       "</table>\n"
      ],
      "text/latex": [
       "\\begin{tabular}{r|ll}\n",
       " x1 & y\\\\\n",
       "\\hline\n",
       "\t 1960.25 & 0.63   \\\\\n",
       "\t 1960.75 & 0.44   \\\\\n",
       "\t 1961.25 & 0.69   \\\\\n",
       "\t 1961.75 & 0.55   \\\\\n",
       "\t 1962.25 & 0.77   \\\\\n",
       "\t 1962.75 & 0.60   \\\\\n",
       "\\end{tabular}\n"
      ],
      "text/markdown": [
       "\n",
       "x1 | y | \n",
       "|---|---|---|---|---|---|\n",
       "| 1960.25 | 0.63    | \n",
       "| 1960.75 | 0.44    | \n",
       "| 1961.25 | 0.69    | \n",
       "| 1961.75 | 0.55    | \n",
       "| 1962.25 | 0.77    | \n",
       "| 1962.75 | 0.60    | \n",
       "\n",
       "\n"
      ],
      "text/plain": [
       "  x1      y   \n",
       "1 1960.25 0.63\n",
       "2 1960.75 0.44\n",
       "3 1961.25 0.69\n",
       "4 1961.75 0.55\n",
       "5 1962.25 0.77\n",
       "6 1962.75 0.60"
      ]
     },
     "metadata": {},
     "output_type": "display_data"
    }
   ],
   "source": [
    "train = read.csv(file='Task1A_train.csv')\n",
    "test = read.csv(file='Task1A_test.csv')\n",
    "\n",
    "dim(train)\n",
    "# first five rows of train and test data\n",
    "head(train)\n",
    "head(test)"
   ]
  },
  {
   "cell_type": "code",
   "execution_count": 27,
   "metadata": {},
   "outputs": [
    {
     "data": {
      "text/html": [
       "<table>\n",
       "<thead><tr><th scope=col>x1</th></tr></thead>\n",
       "<tbody>\n",
       "\t<tr><td>1960.0</td></tr>\n",
       "\t<tr><td>1960.5</td></tr>\n",
       "\t<tr><td>1961.0</td></tr>\n",
       "\t<tr><td>1961.5</td></tr>\n",
       "\t<tr><td>1962.0</td></tr>\n",
       "\t<tr><td>1962.5</td></tr>\n",
       "</tbody>\n",
       "</table>\n"
      ],
      "text/latex": [
       "\\begin{tabular}{r|l}\n",
       " x1\\\\\n",
       "\\hline\n",
       "\t 1960.0\\\\\n",
       "\t 1960.5\\\\\n",
       "\t 1961.0\\\\\n",
       "\t 1961.5\\\\\n",
       "\t 1962.0\\\\\n",
       "\t 1962.5\\\\\n",
       "\\end{tabular}\n"
      ],
      "text/markdown": [
       "\n",
       "x1 | \n",
       "|---|---|---|---|---|---|\n",
       "| 1960.0 | \n",
       "| 1960.5 | \n",
       "| 1961.0 | \n",
       "| 1961.5 | \n",
       "| 1962.0 | \n",
       "| 1962.5 | \n",
       "\n",
       "\n"
      ],
      "text/plain": [
       "  x1    \n",
       "1 1960.0\n",
       "2 1960.5\n",
       "3 1961.0\n",
       "4 1961.5\n",
       "5 1962.0\n",
       "6 1962.5"
      ]
     },
     "metadata": {},
     "output_type": "display_data"
    },
    {
     "data": {
      "text/html": [
       "<table>\n",
       "<thead><tr><th scope=col>x1</th></tr></thead>\n",
       "<tbody>\n",
       "\t<tr><td>1960.25</td></tr>\n",
       "\t<tr><td>1960.75</td></tr>\n",
       "\t<tr><td>1961.25</td></tr>\n",
       "\t<tr><td>1961.75</td></tr>\n",
       "\t<tr><td>1962.25</td></tr>\n",
       "\t<tr><td>1962.75</td></tr>\n",
       "</tbody>\n",
       "</table>\n"
      ],
      "text/latex": [
       "\\begin{tabular}{r|l}\n",
       " x1\\\\\n",
       "\\hline\n",
       "\t 1960.25\\\\\n",
       "\t 1960.75\\\\\n",
       "\t 1961.25\\\\\n",
       "\t 1961.75\\\\\n",
       "\t 1962.25\\\\\n",
       "\t 1962.75\\\\\n",
       "\\end{tabular}\n"
      ],
      "text/markdown": [
       "\n",
       "x1 | \n",
       "|---|---|---|---|---|---|\n",
       "| 1960.25 | \n",
       "| 1960.75 | \n",
       "| 1961.25 | \n",
       "| 1961.75 | \n",
       "| 1962.25 | \n",
       "| 1962.75 | \n",
       "\n",
       "\n"
      ],
      "text/plain": [
       "  x1     \n",
       "1 1960.25\n",
       "2 1960.75\n",
       "3 1961.25\n",
       "4 1961.75\n",
       "5 1962.25\n",
       "6 1962.75"
      ]
     },
     "metadata": {},
     "output_type": "display_data"
    },
    {
     "data": {
      "text/html": [
       "<ol class=list-inline>\n",
       "\t<li>0.71</li>\n",
       "\t<li>0.85</li>\n",
       "\t<li>0.61</li>\n",
       "\t<li>0.92</li>\n",
       "\t<li>0.72</li>\n",
       "\t<li>0.92</li>\n",
       "</ol>\n"
      ],
      "text/latex": [
       "\\begin{enumerate*}\n",
       "\\item 0.71\n",
       "\\item 0.85\n",
       "\\item 0.61\n",
       "\\item 0.92\n",
       "\\item 0.72\n",
       "\\item 0.92\n",
       "\\end{enumerate*}\n"
      ],
      "text/markdown": [
       "1. 0.71\n",
       "2. 0.85\n",
       "3. 0.61\n",
       "4. 0.92\n",
       "5. 0.72\n",
       "6. 0.92\n",
       "\n",
       "\n"
      ],
      "text/plain": [
       "[1] 0.71 0.85 0.61 0.92 0.72 0.92"
      ]
     },
     "metadata": {},
     "output_type": "display_data"
    }
   ],
   "source": [
    "# seperating the dependent(value to be predicted 'Y') and independent variables ('X') \n",
    "\n",
    "train.data = train[1] # 1st column of train data is X\n",
    "train.label = train[,2] # second or the last column is Y\n",
    "\n",
    "test.data = test[1]\n",
    "test.label=test[,2]\n",
    "\n",
    "# preview of how the variables are\n",
    "head(train.data)\n",
    "head(test.data)\n",
    "head(train.label)"
   ]
  },
  {
   "cell_type": "markdown",
   "metadata": {},
   "source": [
    "#### i. Implementing KNN regressor"
   ]
  },
  {
   "cell_type": "code",
   "execution_count": 28,
   "metadata": {
    "collapsed": true
   },
   "outputs": [],
   "source": [
    "# average function to calculate the average of the nearest neighbours.\n",
    "average = function(train.label){\n",
    "    ## get the average of all the samples\n",
    "    return(mean(train.label))\n",
    "}"
   ]
  },
  {
   "cell_type": "markdown",
   "metadata": {},
   "source": [
    "inputs of KNN function are (x variable of train data , y variable of train data , x variable of test data , K value)\n",
    "\n",
    "output is the predicted y variables of test data."
   ]
  },
  {
   "cell_type": "code",
   "execution_count": 34,
   "metadata": {
    "collapsed": true
   },
   "outputs": [],
   "source": [
    "knn <- function(train.data, train.label, test.data, K=3){ # by default using k = 3\n",
    "    \n",
    "    ## number of train samples\n",
    "    train.len = nrow(train.data)\n",
    "    \n",
    "    ## number of test samples\n",
    "    test.len = nrow(test.data)\n",
    "    \n",
    "    ## distances between samples using method 'euclidean'\n",
    "    dist = as.matrix(dist(rbind(test.data, train.data), method= 'euclidean'))[1:test.len, (test.len+1):(test.len+train.len)]\n",
    "    \n",
    "    ## for each test sample\n",
    "    for (i in 1:test.len){\n",
    "        \n",
    "        ### fetching K nearest neighbours of test sample from training sampels\n",
    "        nn = as.data.frame(sort(dist[i,], index.return = TRUE))[1:K,2]\n",
    "        \n",
    "        ### Average of these nearest neighbours is obatined using the average function\n",
    "        test.label[i] = (average(train.label[nn]))\n",
    "    }\n",
    "    \n",
    "    ## return predicted labels as output\n",
    "    return (test.label)\n",
    "    \n",
    "}"
   ]
  },
  {
   "cell_type": "markdown",
   "metadata": {},
   "source": [
    "Above KNN function is called to predict the test data"
   ]
  },
  {
   "cell_type": "code",
   "execution_count": 30,
   "metadata": {},
   "outputs": [
    {
     "data": {
      "text/html": [
       "<ol class=list-inline>\n",
       "\t<li>0.723333333333333</li>\n",
       "\t<li>0.723333333333333</li>\n",
       "\t<li>0.793333333333333</li>\n",
       "\t<li>0.75</li>\n",
       "\t<li>0.853333333333333</li>\n",
       "\t<li>0.823333333333333</li>\n",
       "\t<li>0.916666666666667</li>\n",
       "\t<li>0.916666666666667</li>\n",
       "\t<li>1.05333333333333</li>\n",
       "\t<li>1.10666666666667</li>\n",
       "\t<li>1.28333333333333</li>\n",
       "\t<li>1.29</li>\n",
       "\t<li>1.52333333333333</li>\n",
       "\t<li>1.55</li>\n",
       "\t<li>1.74</li>\n",
       "\t<li>1.63</li>\n",
       "\t<li>1.9</li>\n",
       "\t<li>2.01</li>\n",
       "\t<li>2.4</li>\n",
       "\t<li>2.55</li>\n",
       "\t<li>3.06</li>\n",
       "\t<li>3.36</li>\n",
       "\t<li>3.87</li>\n",
       "\t<li>4.26</li>\n",
       "\t<li>4.74</li>\n",
       "\t<li>5.16</li>\n",
       "\t<li>5.73</li>\n",
       "\t<li>6.06</li>\n",
       "\t<li>6.51</li>\n",
       "\t<li>6.63</li>\n",
       "\t<li>7.23</li>\n",
       "\t<li>7.5</li>\n",
       "\t<li>7.95</li>\n",
       "\t<li>8.52</li>\n",
       "\t<li>9.12</li>\n",
       "\t<li>10.32</li>\n",
       "\t<li>11.19</li>\n",
       "\t<li>12.69</li>\n",
       "\t<li>13.68</li>\n",
       "\t<li>15.03</li>\n",
       "\t<li>15.69</li>\n",
       "\t<li>15.69</li>\n",
       "</ol>\n"
      ],
      "text/latex": [
       "\\begin{enumerate*}\n",
       "\\item 0.723333333333333\n",
       "\\item 0.723333333333333\n",
       "\\item 0.793333333333333\n",
       "\\item 0.75\n",
       "\\item 0.853333333333333\n",
       "\\item 0.823333333333333\n",
       "\\item 0.916666666666667\n",
       "\\item 0.916666666666667\n",
       "\\item 1.05333333333333\n",
       "\\item 1.10666666666667\n",
       "\\item 1.28333333333333\n",
       "\\item 1.29\n",
       "\\item 1.52333333333333\n",
       "\\item 1.55\n",
       "\\item 1.74\n",
       "\\item 1.63\n",
       "\\item 1.9\n",
       "\\item 2.01\n",
       "\\item 2.4\n",
       "\\item 2.55\n",
       "\\item 3.06\n",
       "\\item 3.36\n",
       "\\item 3.87\n",
       "\\item 4.26\n",
       "\\item 4.74\n",
       "\\item 5.16\n",
       "\\item 5.73\n",
       "\\item 6.06\n",
       "\\item 6.51\n",
       "\\item 6.63\n",
       "\\item 7.23\n",
       "\\item 7.5\n",
       "\\item 7.95\n",
       "\\item 8.52\n",
       "\\item 9.12\n",
       "\\item 10.32\n",
       "\\item 11.19\n",
       "\\item 12.69\n",
       "\\item 13.68\n",
       "\\item 15.03\n",
       "\\item 15.69\n",
       "\\item 15.69\n",
       "\\end{enumerate*}\n"
      ],
      "text/markdown": [
       "1. 0.723333333333333\n",
       "2. 0.723333333333333\n",
       "3. 0.793333333333333\n",
       "4. 0.75\n",
       "5. 0.853333333333333\n",
       "6. 0.823333333333333\n",
       "7. 0.916666666666667\n",
       "8. 0.916666666666667\n",
       "9. 1.05333333333333\n",
       "10. 1.10666666666667\n",
       "11. 1.28333333333333\n",
       "12. 1.29\n",
       "13. 1.52333333333333\n",
       "14. 1.55\n",
       "15. 1.74\n",
       "16. 1.63\n",
       "17. 1.9\n",
       "18. 2.01\n",
       "19. 2.4\n",
       "20. 2.55\n",
       "21. 3.06\n",
       "22. 3.36\n",
       "23. 3.87\n",
       "24. 4.26\n",
       "25. 4.74\n",
       "26. 5.16\n",
       "27. 5.73\n",
       "28. 6.06\n",
       "29. 6.51\n",
       "30. 6.63\n",
       "31. 7.23\n",
       "32. 7.5\n",
       "33. 7.95\n",
       "34. 8.52\n",
       "35. 9.12\n",
       "36. 10.32\n",
       "37. 11.19\n",
       "38. 12.69\n",
       "39. 13.68\n",
       "40. 15.03\n",
       "41. 15.69\n",
       "42. 15.69\n",
       "\n",
       "\n"
      ],
      "text/plain": [
       " [1]  0.7233333  0.7233333  0.7933333  0.7500000  0.8533333  0.8233333\n",
       " [7]  0.9166667  0.9166667  1.0533333  1.1066667  1.2833333  1.2900000\n",
       "[13]  1.5233333  1.5500000  1.7400000  1.6300000  1.9000000  2.0100000\n",
       "[19]  2.4000000  2.5500000  3.0600000  3.3600000  3.8700000  4.2600000\n",
       "[25]  4.7400000  5.1600000  5.7300000  6.0600000  6.5100000  6.6300000\n",
       "[31]  7.2300000  7.5000000  7.9500000  8.5200000  9.1200000 10.3200000\n",
       "[37] 11.1900000 12.6900000 13.6800000 15.0300000 15.6900000 15.6900000"
      ]
     },
     "metadata": {},
     "output_type": "display_data"
    }
   ],
   "source": [
    "knn(train.data, train.label, test.data)"
   ]
  },
  {
   "cell_type": "markdown",
   "metadata": {},
   "source": [
    "#### ii. Error plots of training and testing data w.r.t 1/K value"
   ]
  },
  {
   "cell_type": "code",
   "execution_count": 38,
   "metadata": {
    "scrolled": true
   },
   "outputs": [
    {
     "data": {
      "text/html": [
       "<table>\n",
       "<thead><tr><th scope=col>k</th><th scope=col>train</th><th scope=col>test</th></tr></thead>\n",
       "<tbody>\n",
       "\t<tr><td>1         </td><td>0.00000000</td><td>1.689724  </td></tr>\n",
       "\t<tr><td>2         </td><td>0.12229226</td><td>2.126671  </td></tr>\n",
       "\t<tr><td>3         </td><td>0.09634101</td><td>1.695130  </td></tr>\n",
       "\t<tr><td>4         </td><td>0.14983810</td><td>1.852862  </td></tr>\n",
       "\t<tr><td>5         </td><td>0.15821952</td><td>1.380205  </td></tr>\n",
       "\t<tr><td>6         </td><td>0.28321620</td><td>1.472957  </td></tr>\n",
       "</tbody>\n",
       "</table>\n"
      ],
      "text/latex": [
       "\\begin{tabular}{r|lll}\n",
       " k & train & test\\\\\n",
       "\\hline\n",
       "\t 1          & 0.00000000 & 1.689724  \\\\\n",
       "\t 2          & 0.12229226 & 2.126671  \\\\\n",
       "\t 3          & 0.09634101 & 1.695130  \\\\\n",
       "\t 4          & 0.14983810 & 1.852862  \\\\\n",
       "\t 5          & 0.15821952 & 1.380205  \\\\\n",
       "\t 6          & 0.28321620 & 1.472957  \\\\\n",
       "\\end{tabular}\n"
      ],
      "text/markdown": [
       "\n",
       "k | train | test | \n",
       "|---|---|---|---|---|---|\n",
       "| 1          | 0.00000000 | 1.689724   | \n",
       "| 2          | 0.12229226 | 2.126671   | \n",
       "| 3          | 0.09634101 | 1.695130   | \n",
       "| 4          | 0.14983810 | 1.852862   | \n",
       "| 5          | 0.15821952 | 1.380205   | \n",
       "| 6          | 0.28321620 | 1.472957   | \n",
       "\n",
       "\n"
      ],
      "text/plain": [
       "  k train      test    \n",
       "1 1 0.00000000 1.689724\n",
       "2 2 0.12229226 2.126671\n",
       "3 3 0.09634101 1.695130\n",
       "4 4 0.14983810 1.852862\n",
       "5 5 0.15821952 1.380205\n",
       "6 6 0.28321620 1.472957"
      ]
     },
     "metadata": {},
     "output_type": "display_data"
    }
   ],
   "source": [
    "# provided maximum value of k is 20\n",
    "max.k = 20\n",
    "\n",
    "# dataframe to save the errors.\n",
    "# Mean square error is used to calculate the errors\n",
    "MSE = data.frame('k' = 1:max.k,'train'=rep(0,max.k),'test'=rep(0,max.k))\n",
    "\n",
    "# form 1 to max.k (42) errors are calculated upon estimating the values using KNN function\n",
    "for (k in 1:max.k){\n",
    "    MSE[k,2] = sum((knn(train.data, train.label, train.data,k) - train.label)^2)/nrow(train.data) # training error\n",
    "    MSE[k,3] = sum((knn(train.data, train.label, test.data,k) - test.label)^2)/nrow(test.data) # testing error\n",
    "}\n",
    "head(MSE)"
   ]
  },
  {
   "cell_type": "code",
   "execution_count": 39,
   "metadata": {},
   "outputs": [
    {
     "data": {
      "text/html": [
       "<table>\n",
       "<thead><tr><th scope=col>k</th><th scope=col>type</th><th scope=col>error</th></tr></thead>\n",
       "<tbody>\n",
       "\t<tr><td>1         </td><td>train     </td><td>0.00000000</td></tr>\n",
       "\t<tr><td>2         </td><td>train     </td><td>0.12229226</td></tr>\n",
       "\t<tr><td>3         </td><td>train     </td><td>0.09634101</td></tr>\n",
       "\t<tr><td>4         </td><td>train     </td><td>0.14983810</td></tr>\n",
       "\t<tr><td>5         </td><td>train     </td><td>0.15821952</td></tr>\n",
       "\t<tr><td>6         </td><td>train     </td><td>0.28321620</td></tr>\n",
       "</tbody>\n",
       "</table>\n"
      ],
      "text/latex": [
       "\\begin{tabular}{r|lll}\n",
       " k & type & error\\\\\n",
       "\\hline\n",
       "\t 1          & train      & 0.00000000\\\\\n",
       "\t 2          & train      & 0.12229226\\\\\n",
       "\t 3          & train      & 0.09634101\\\\\n",
       "\t 4          & train      & 0.14983810\\\\\n",
       "\t 5          & train      & 0.15821952\\\\\n",
       "\t 6          & train      & 0.28321620\\\\\n",
       "\\end{tabular}\n"
      ],
      "text/markdown": [
       "\n",
       "k | type | error | \n",
       "|---|---|---|---|---|---|\n",
       "| 1          | train      | 0.00000000 | \n",
       "| 2          | train      | 0.12229226 | \n",
       "| 3          | train      | 0.09634101 | \n",
       "| 4          | train      | 0.14983810 | \n",
       "| 5          | train      | 0.15821952 | \n",
       "| 6          | train      | 0.28321620 | \n",
       "\n",
       "\n"
      ],
      "text/plain": [
       "  k type  error     \n",
       "1 1 train 0.00000000\n",
       "2 2 train 0.12229226\n",
       "3 3 train 0.09634101\n",
       "4 4 train 0.14983810\n",
       "5 5 train 0.15821952\n",
       "6 6 train 0.28321620"
      ]
     },
     "metadata": {},
     "output_type": "display_data"
    }
   ],
   "source": [
    "# melt fucntion from reshape library is used to compress the dataframe.\n",
    "\n",
    "MSE.melt = melt(MSE,id='k') # k is used as id and other are compressed to variable and values\n",
    "names(MSE.melt) = c('k','type','error') # changing the column names\n",
    "head(MSE.melt)"
   ]
  },
  {
   "cell_type": "code",
   "execution_count": 44,
   "metadata": {},
   "outputs": [
    {
     "data": {},
     "metadata": {},
     "output_type": "display_data"
    },
    {
     "data": {
      "image/png": "[encoded data removed]",
      "text/plain": [
       "plot without title"
      ]
     },
     "metadata": {},
     "output_type": "display_data"
    }
   ],
   "source": [
    "# plot 1/k vs. mean square error \n",
    "#ggplot(aes(k,error,color = type),data = MSE.melt) + geom_line()+ theme_minimal() + ggtitle(\"Mean Sqaure Error\")\n",
    "ggplot(aes((1/k),error,color = type),data = MSE.melt) + geom_line()+ theme_minimal() +\n",
    "       ggtitle(\"1/K vs Mean Sqaure Error\") + xlab(\"1/K (K-nearest neighbours)\") + ylab(\"Mean Square Error\")"
   ]
  },
  {
   "cell_type": "markdown",
   "metadata": {},
   "source": [
    "### iii. Report\n",
    "\n",
    "at k = 1 ==> 1/k = 1, training MSE is zero where as testing error is high.\n",
    "\n",
    "as the k kept increaing the, training MSE kept increaing gradually and the the testing error kept decreasing. \n",
    "\n",
    "At some value of K, testing MSE stoped decreaing and started increasing. In this case the K value is at k=11.\n",
    "\n",
    "At this k-value trainign error is also high. so optimal value of K to get better results can be between 9, 10 or 11.\n",
    "\n",
    "Among these best can be considered as 9. as it has considerabliy low testing error along with low training error."
   ]
  }
 ],
 "metadata": {
  "kernelspec": {
   "display_name": "R",
   "language": "R",
   "name": "ir"
  },
  "language_info": {
   "codemirror_mode": "r",
   "file_extension": ".r",
   "mimetype": "text/x-r-source",
   "name": "R",
   "pygments_lexer": "r",
   "version": "3.4.3"
  }
 },
 "nbformat": 4,
 "nbformat_minor": 2
}
