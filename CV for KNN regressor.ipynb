{
 "cells": [
  {
   "cell_type": "markdown",
   "metadata": {},
   "source": [
    "# L - fold cross validation for KNN Regressor\n",
    "\n",
    "####  When test data is no provided it is impossible to select the best K by using KNN from only training data, as at k=0 it gives error as zero. In this case, L-fold cross validation is widely used. the training dat is divided into L folds. KNN trained with L-1 folds and tested with the remaning 1 fold to find the best K value. \n",
    "\n",
    "\n",
    "Below are the tasks that are being carried out in this - \n",
    "\n",
    "i.   Implementing L-fold cross validation that can accept multiple inputs\n",
    "\n",
    "ii.  Error plots for train and test data w.r.t 1/K\n",
    "\n",
    "iii. Report"
   ]
  },
  {
   "cell_type": "code",
   "execution_count": 48,
   "metadata": {
    "collapsed": true
   },
   "outputs": [],
   "source": [
    "# importing required libraries\n",
    "library(reshape2)\n",
    "library(ggplot2)"
   ]
  },
  {
   "cell_type": "markdown",
   "metadata": {},
   "source": [
    "#### Loading training and testing data provided. "
   ]
  },
  {
   "cell_type": "code",
   "execution_count": 1,
   "metadata": {},
   "outputs": [
    {
     "data": {
      "text/html": [
       "<ol class=list-inline>\n",
       "\t<li>42</li>\n",
       "\t<li>2</li>\n",
       "</ol>\n"
      ],
      "text/latex": [
       "\\begin{enumerate*}\n",
       "\\item 42\n",
       "\\item 2\n",
       "\\end{enumerate*}\n"
      ],
      "text/markdown": [
       "1. 42\n",
       "2. 2\n",
       "\n",
       "\n"
      ],
      "text/plain": [
       "[1] 42  2"
      ]
     },
     "metadata": {},
     "output_type": "display_data"
    },
    {
     "data": {
      "text/html": [
       "<table>\n",
       "<thead><tr><th scope=col>x1</th><th scope=col>y</th></tr></thead>\n",
       "<tbody>\n",
       "\t<tr><td>1960.0</td><td>0.71  </td></tr>\n",
       "\t<tr><td>1960.5</td><td>0.85  </td></tr>\n",
       "\t<tr><td>1961.0</td><td>0.61  </td></tr>\n",
       "\t<tr><td>1961.5</td><td>0.92  </td></tr>\n",
       "\t<tr><td>1962.0</td><td>0.72  </td></tr>\n",
       "\t<tr><td>1962.5</td><td>0.92  </td></tr>\n",
       "</tbody>\n",
       "</table>\n"
      ],
      "text/latex": [
       "\\begin{tabular}{r|ll}\n",
       " x1 & y\\\\\n",
       "\\hline\n",
       "\t 1960.0 & 0.71  \\\\\n",
       "\t 1960.5 & 0.85  \\\\\n",
       "\t 1961.0 & 0.61  \\\\\n",
       "\t 1961.5 & 0.92  \\\\\n",
       "\t 1962.0 & 0.72  \\\\\n",
       "\t 1962.5 & 0.92  \\\\\n",
       "\\end{tabular}\n"
      ],
      "text/markdown": [
       "\n",
       "x1 | y | \n",
       "|---|---|---|---|---|---|\n",
       "| 1960.0 | 0.71   | \n",
       "| 1960.5 | 0.85   | \n",
       "| 1961.0 | 0.61   | \n",
       "| 1961.5 | 0.92   | \n",
       "| 1962.0 | 0.72   | \n",
       "| 1962.5 | 0.92   | \n",
       "\n",
       "\n"
      ],
      "text/plain": [
       "  x1     y   \n",
       "1 1960.0 0.71\n",
       "2 1960.5 0.85\n",
       "3 1961.0 0.61\n",
       "4 1961.5 0.92\n",
       "5 1962.0 0.72\n",
       "6 1962.5 0.92"
      ]
     },
     "metadata": {},
     "output_type": "display_data"
    },
    {
     "data": {
      "text/html": [
       "<table>\n",
       "<thead><tr><th scope=col>x1</th><th scope=col>y</th></tr></thead>\n",
       "<tbody>\n",
       "\t<tr><td>1960.25</td><td>0.63   </td></tr>\n",
       "\t<tr><td>1960.75</td><td>0.44   </td></tr>\n",
       "\t<tr><td>1961.25</td><td>0.69   </td></tr>\n",
       "\t<tr><td>1961.75</td><td>0.55   </td></tr>\n",
       "\t<tr><td>1962.25</td><td>0.77   </td></tr>\n",
       "\t<tr><td>1962.75</td><td>0.60   </td></tr>\n",
       "</tbody>\n",
       "</table>\n"
      ],
      "text/latex": [
       "\\begin{tabular}{r|ll}\n",
       " x1 & y\\\\\n",
       "\\hline\n",
       "\t 1960.25 & 0.63   \\\\\n",
       "\t 1960.75 & 0.44   \\\\\n",
       "\t 1961.25 & 0.69   \\\\\n",
       "\t 1961.75 & 0.55   \\\\\n",
       "\t 1962.25 & 0.77   \\\\\n",
       "\t 1962.75 & 0.60   \\\\\n",
       "\\end{tabular}\n"
      ],
      "text/markdown": [
       "\n",
       "x1 | y | \n",
       "|---|---|---|---|---|---|\n",
       "| 1960.25 | 0.63    | \n",
       "| 1960.75 | 0.44    | \n",
       "| 1961.25 | 0.69    | \n",
       "| 1961.75 | 0.55    | \n",
       "| 1962.25 | 0.77    | \n",
       "| 1962.75 | 0.60    | \n",
       "\n",
       "\n"
      ],
      "text/plain": [
       "  x1      y   \n",
       "1 1960.25 0.63\n",
       "2 1960.75 0.44\n",
       "3 1961.25 0.69\n",
       "4 1961.75 0.55\n",
       "5 1962.25 0.77\n",
       "6 1962.75 0.60"
      ]
     },
     "metadata": {},
     "output_type": "display_data"
    }
   ],
   "source": [
    "train = read.csv(file='Task1A_train.csv')\n",
    "test = read.csv(file='Task1A_test.csv')\n",
    "\n",
    "dim(train)\n",
    "# first five rows of train and test data\n",
    "head(train)\n",
    "head(test)"
   ]
  },
  {
   "cell_type": "code",
   "execution_count": 50,
   "metadata": {},
   "outputs": [
    {
     "data": {
      "text/html": [
       "<table>\n",
       "<thead><tr><th scope=col>x1</th></tr></thead>\n",
       "<tbody>\n",
       "\t<tr><td>1960.0</td></tr>\n",
       "\t<tr><td>1960.5</td></tr>\n",
       "\t<tr><td>1961.0</td></tr>\n",
       "\t<tr><td>1961.5</td></tr>\n",
       "\t<tr><td>1962.0</td></tr>\n",
       "\t<tr><td>1962.5</td></tr>\n",
       "</tbody>\n",
       "</table>\n"
      ],
      "text/latex": [
       "\\begin{tabular}{r|l}\n",
       " x1\\\\\n",
       "\\hline\n",
       "\t 1960.0\\\\\n",
       "\t 1960.5\\\\\n",
       "\t 1961.0\\\\\n",
       "\t 1961.5\\\\\n",
       "\t 1962.0\\\\\n",
       "\t 1962.5\\\\\n",
       "\\end{tabular}\n"
      ],
      "text/markdown": [
       "\n",
       "x1 | \n",
       "|---|---|---|---|---|---|\n",
       "| 1960.0 | \n",
       "| 1960.5 | \n",
       "| 1961.0 | \n",
       "| 1961.5 | \n",
       "| 1962.0 | \n",
       "| 1962.5 | \n",
       "\n",
       "\n"
      ],
      "text/plain": [
       "  x1    \n",
       "1 1960.0\n",
       "2 1960.5\n",
       "3 1961.0\n",
       "4 1961.5\n",
       "5 1962.0\n",
       "6 1962.5"
      ]
     },
     "metadata": {},
     "output_type": "display_data"
    },
    {
     "data": {
      "text/html": [
       "<table>\n",
       "<thead><tr><th scope=col>x1</th></tr></thead>\n",
       "<tbody>\n",
       "\t<tr><td>1960.25</td></tr>\n",
       "\t<tr><td>1960.75</td></tr>\n",
       "\t<tr><td>1961.25</td></tr>\n",
       "\t<tr><td>1961.75</td></tr>\n",
       "\t<tr><td>1962.25</td></tr>\n",
       "\t<tr><td>1962.75</td></tr>\n",
       "</tbody>\n",
       "</table>\n"
      ],
      "text/latex": [
       "\\begin{tabular}{r|l}\n",
       " x1\\\\\n",
       "\\hline\n",
       "\t 1960.25\\\\\n",
       "\t 1960.75\\\\\n",
       "\t 1961.25\\\\\n",
       "\t 1961.75\\\\\n",
       "\t 1962.25\\\\\n",
       "\t 1962.75\\\\\n",
       "\\end{tabular}\n"
      ],
      "text/markdown": [
       "\n",
       "x1 | \n",
       "|---|---|---|---|---|---|\n",
       "| 1960.25 | \n",
       "| 1960.75 | \n",
       "| 1961.25 | \n",
       "| 1961.75 | \n",
       "| 1962.25 | \n",
       "| 1962.75 | \n",
       "\n",
       "\n"
      ],
      "text/plain": [
       "  x1     \n",
       "1 1960.25\n",
       "2 1960.75\n",
       "3 1961.25\n",
       "4 1961.75\n",
       "5 1962.25\n",
       "6 1962.75"
      ]
     },
     "metadata": {},
     "output_type": "display_data"
    },
    {
     "data": {
      "text/html": [
       "<ol class=list-inline>\n",
       "\t<li>0.71</li>\n",
       "\t<li>0.85</li>\n",
       "\t<li>0.61</li>\n",
       "\t<li>0.92</li>\n",
       "\t<li>0.72</li>\n",
       "\t<li>0.92</li>\n",
       "</ol>\n"
      ],
      "text/latex": [
       "\\begin{enumerate*}\n",
       "\\item 0.71\n",
       "\\item 0.85\n",
       "\\item 0.61\n",
       "\\item 0.92\n",
       "\\item 0.72\n",
       "\\item 0.92\n",
       "\\end{enumerate*}\n"
      ],
      "text/markdown": [
       "1. 0.71\n",
       "2. 0.85\n",
       "3. 0.61\n",
       "4. 0.92\n",
       "5. 0.72\n",
       "6. 0.92\n",
       "\n",
       "\n"
      ],
      "text/plain": [
       "[1] 0.71 0.85 0.61 0.92 0.72 0.92"
      ]
     },
     "metadata": {},
     "output_type": "display_data"
    }
   ],
   "source": [
    "# seperating the dependent(value to be predicted 'Y') and independent variables ('X') \n",
    "\n",
    "train.data = train[1] # 1st column of train data is X\n",
    "train.label = train[,2] # second or the last column is Y\n",
    "\n",
    "test.data = test[1]\n",
    "test.label=test[,2]\n",
    "\n",
    "# preview of how the variables are\n",
    "head(train.data)\n",
    "head(test.data)\n",
    "head(train.label)"
   ]
  },
  {
   "cell_type": "markdown",
   "metadata": {},
   "source": [
    "Implementing KNN regressor"
   ]
  },
  {
   "cell_type": "code",
   "execution_count": 51,
   "metadata": {
    "collapsed": true
   },
   "outputs": [],
   "source": [
    "# average function to calculate the average of the nearest neighbours.\n",
    "average = function(train.label){\n",
    "    ## get the average of all the samples\n",
    "    return(mean(train.label))\n",
    "}"
   ]
  },
  {
   "cell_type": "markdown",
   "metadata": {},
   "source": [
    "inputs of KNN function are (x variable of train data , y variable of train data , x variable of test data , K value)\n",
    "\n",
    "output is the predicted y variables of test data."
   ]
  },
  {
   "cell_type": "code",
   "execution_count": 52,
   "metadata": {
    "collapsed": true
   },
   "outputs": [],
   "source": [
    "knn <- function(train.data, train.label, test.data, K=3){ # by default using k = 3\n",
    "    \n",
    "    ## number of train samples\n",
    "    train.len = nrow(train.data)\n",
    "    \n",
    "    ## number of test samples\n",
    "    test.len = nrow(test.data)\n",
    "    \n",
    "    ## distances between samples using method 'euclidean'\n",
    "    dist = as.matrix(dist(rbind(test.data, train.data), method= 'euclidean'))[1:test.len, (test.len+1):(test.len+train.len)]\n",
    "    \n",
    "    ## for each test sample\n",
    "    for (i in 1:test.len){\n",
    "        \n",
    "        ### fetching K nearest neighbours of test sample from training sampels\n",
    "        nn = as.data.frame(sort(dist[i,], index.return = TRUE))[1:K,2]\n",
    "        \n",
    "        ### Average of these nearest neighbours is obatined using the average function\n",
    "        test.label[i] = (average(train.label[nn]))\n",
    "    }\n",
    "    \n",
    "    ## return predicted labels as output\n",
    "    return (test.label)\n",
    "    \n",
    "}"
   ]
  },
  {
   "cell_type": "markdown",
   "metadata": {},
   "source": [
    "#### Implementing CV function\n",
    "inputs - training data , training labels, number of folds and K value\n",
    "\n",
    "output - error for all the folds"
   ]
  },
  {
   "cell_type": "code",
   "execution_count": 77,
   "metadata": {
    "collapsed": true
   },
   "outputs": [],
   "source": [
    "cv = function(train.data,train.label,numFold=10,k=3){\n",
    "    train.len = nrow(train.data)\n",
    "    error=c()\n",
    "    \n",
    "    shuffle = sample(1:train.len,train.len,replace = F)\n",
    "    train.data  = train.data[shuffle,,drop=FALSE]\n",
    "    \n",
    "    # grouping the indices of training data into the total groups according to the number of folds  \n",
    "    indices = cut(seq(1,nrow(train.data)),breaks=numFold,labels=FALSE)\n",
    "    #indices = c(1,1,1,1,1,2,2,2,2,3,3,3,3,4,4,4,4,5,5,5,5,6,6,6,6,7,7,7,7,8,8,8,8,9,9,9,9,10,10,10,10,10)\n",
    "    \n",
    "    for (i in 1:numFold){\n",
    "        \n",
    "        # obtain the indices of group == i which gives the test indices \n",
    "        test.index = which(indices==i,arr.ind = TRUE)\n",
    "        \n",
    "        # creating the training data and labels ,  testing data and labels for this group\n",
    "        test.data.fold = train.data[test.index, ,drop=FALSE] # drop = false donot convert the single column into array.\n",
    "        train.data.fold = train.data[-test.index, ,drop=FALSE]\n",
    "        train.label.fold = train.label[-test.index]\n",
    "        test.label.fold = train.label[test.index] \n",
    "        \n",
    "        # calculating MSE between test fold labels  and knn predicted labels. \n",
    "        error = c(error,c(sum((knn(train.data.fold, train.label.fold, test.data.fold,k) - test.label.fold)^2)/nrow(train.data.fold)))\n",
    "        \n",
    "        }\n",
    "    #return the errors of all the folds.\n",
    "    return (error)\n",
    "    }\n",
    "\n"
   ]
  },
  {
   "cell_type": "code",
   "execution_count": 78,
   "metadata": {},
   "outputs": [
    {
     "data": {
      "text/html": [
       "<ol class=list-inline>\n",
       "\t<li>38.4444204204204</li>\n",
       "\t<li>34.5147684210526</li>\n",
       "\t<li>32.5788233918129</li>\n",
       "\t<li>30.0534643274854</li>\n",
       "\t<li>22.0468669590643</li>\n",
       "\t<li>16.8384883040936</li>\n",
       "\t<li>17.5248014619883</li>\n",
       "\t<li>21.4737412280702</li>\n",
       "\t<li>44.3291985380117</li>\n",
       "\t<li>124.217578378378</li>\n",
       "</ol>\n"
      ],
      "text/latex": [
       "\\begin{enumerate*}\n",
       "\\item 38.4444204204204\n",
       "\\item 34.5147684210526\n",
       "\\item 32.5788233918129\n",
       "\\item 30.0534643274854\n",
       "\\item 22.0468669590643\n",
       "\\item 16.8384883040936\n",
       "\\item 17.5248014619883\n",
       "\\item 21.4737412280702\n",
       "\\item 44.3291985380117\n",
       "\\item 124.217578378378\n",
       "\\end{enumerate*}\n"
      ],
      "text/markdown": [
       "1. 38.4444204204204\n",
       "2. 34.5147684210526\n",
       "3. 32.5788233918129\n",
       "4. 30.0534643274854\n",
       "5. 22.0468669590643\n",
       "6. 16.8384883040936\n",
       "7. 17.5248014619883\n",
       "8. 21.4737412280702\n",
       "9. 44.3291985380117\n",
       "10. 124.217578378378\n",
       "\n",
       "\n"
      ],
      "text/plain": [
       " [1]  38.44442  34.51477  32.57882  30.05346  22.04687  16.83849  17.52480\n",
       " [8]  21.47374  44.32920 124.21758"
      ]
     },
     "metadata": {},
     "output_type": "display_data"
    }
   ],
   "source": [
    "# sample ouptput for L-fold = 10 and k = 3 default\n",
    "options(warn=-1)\n",
    "cv(train.data,train.label,10)"
   ]
  },
  {
   "cell_type": "markdown",
   "metadata": {},
   "source": [
    "#### ii. Error plots of training and testing data w.r.t 1/K value fro L-fold = 10"
   ]
  },
  {
   "cell_type": "code",
   "execution_count": 88,
   "metadata": {
    "collapsed": true
   },
   "outputs": [],
   "source": [
    "# Fetching errors for the provide L-fold = 10 and k= [1,20]\n",
    "\n",
    "k.max =20\n",
    "numFold = 10\n",
    "\n",
    "# dataframe to store the errors\n",
    "fold.MSE=data.frame('k' = 1:k.max,'mse' = rep(0,k.max))\n",
    "\n",
    "# for each k\n",
    "for (k in 1:k.max){\n",
    "    # mean of all the ouptputs i.e here 10 outputs for that k is caluculated\n",
    "    fold.MSE[k,2] = mean(cv(train.data,train.label,numFold,k))\n",
    "}"
   ]
  },
  {
   "cell_type": "code",
   "execution_count": 89,
   "metadata": {},
   "outputs": [
    {
     "data": {},
     "metadata": {},
     "output_type": "display_data"
    },
    {
     "data": {
      "image/png": "[encoded data removed]",
      "text/plain": [
       "plot without title"
      ]
     },
     "metadata": {},
     "output_type": "display_data"
    }
   ],
   "source": [
    "# plot for 1/K vs. Mean Square error with l-Fold = 10\n",
    "\n",
    "ggplot(aes((1/k),mse),data = fold.MSE) + geom_line(color='green')+ geom_point(color = 'red',size = 1) + theme_minimal() +\n",
    "       ggtitle(\"    1/K vs Mean Sqaure Error with fold = 10\") + \n",
    "        xlab(\"1/k (K-Nearest Neighbour)\") + ylab(\"Mean Square Error\")"
   ]
  },
  {
   "cell_type": "markdown",
   "metadata": {
    "collapsed": true
   },
   "source": [
    "### iii. Report\n",
    "\n",
    "Above plot shows that as k value increases, error decreases and reaches minimum value. Further more increase in K, makes the error unstable i.e it increases in some cases and decreases in other cases. The optimal value of K from above plot is k=9."
   ]
  },
  {
   "cell_type": "code",
   "execution_count": null,
   "metadata": {
    "collapsed": true
   },
   "outputs": [],
   "source": []
  }
 ],
 "metadata": {
  "kernelspec": {
   "display_name": "R",
   "language": "R",
   "name": "ir"
  },
  "language_info": {
   "codemirror_mode": "r",
   "file_extension": ".r",
   "mimetype": "text/x-r-source",
   "name": "R",
   "pygments_lexer": "r",
   "version": "3.4.3"
  }
 },
 "nbformat": 4,
 "nbformat_minor": 2
}
