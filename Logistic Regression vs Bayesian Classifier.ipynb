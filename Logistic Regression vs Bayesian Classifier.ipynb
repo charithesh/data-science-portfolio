{
 "cells": [
  {
   "cell_type": "markdown",
   "metadata": {},
   "source": [
    "# Logistic Regression vs Bayesian Classifier"
   ]
  },
  {
   "cell_type": "code",
   "execution_count": 1,
   "metadata": {},
   "outputs": [
    {
     "name": "stderr",
     "output_type": "stream",
     "text": [
      "Warning message:\n",
      "\"package 'ggplot2' was built under R version 3.4.4\"Warning message:\n",
      "\"package 'reshape2' was built under R version 3.4.4\"Warning message:\n",
      "\"package 'mvtnorm' was built under R version 3.4.4\""
     ]
    }
   ],
   "source": [
    "# importing required libraries\n",
    "library(ggplot2)\n",
    "library(reshape2)\n",
    "library(mvtnorm)"
   ]
  },
  {
   "cell_type": "code",
   "execution_count": 2,
   "metadata": {},
   "outputs": [
    {
     "data": {
      "text/html": [
       "<table>\n",
       "<thead><tr><th scope=col>x1</th><th scope=col>x2</th><th scope=col>y</th></tr></thead>\n",
       "<tbody>\n",
       "\t<tr><td>-0.4367052</td><td>3.171451  </td><td>-1        </td></tr>\n",
       "\t<tr><td> 5.1048972</td><td>1.227815  </td><td> 1        </td></tr>\n",
       "\t<tr><td> 3.9974518</td><td>1.049502  </td><td> 1        </td></tr>\n",
       "\t<tr><td> 2.5354540</td><td>1.242902  </td><td> 1        </td></tr>\n",
       "\t<tr><td> 4.2624556</td><td>2.551909  </td><td> 1        </td></tr>\n",
       "\t<tr><td> 1.5505866</td><td>2.595164  </td><td>-1        </td></tr>\n",
       "</tbody>\n",
       "</table>\n"
      ],
      "text/latex": [
       "\\begin{tabular}{r|lll}\n",
       " x1 & x2 & y\\\\\n",
       "\\hline\n",
       "\t -0.4367052 & 3.171451   & -1        \\\\\n",
       "\t  5.1048972 & 1.227815   &  1        \\\\\n",
       "\t  3.9974518 & 1.049502   &  1        \\\\\n",
       "\t  2.5354540 & 1.242902   &  1        \\\\\n",
       "\t  4.2624556 & 2.551909   &  1        \\\\\n",
       "\t  1.5505866 & 2.595164   & -1        \\\\\n",
       "\\end{tabular}\n"
      ],
      "text/markdown": [
       "\n",
       "x1 | x2 | y | \n",
       "|---|---|---|---|---|---|\n",
       "| -0.4367052 | 3.171451   | -1         | \n",
       "|  5.1048972 | 1.227815   |  1         | \n",
       "|  3.9974518 | 1.049502   |  1         | \n",
       "|  2.5354540 | 1.242902   |  1         | \n",
       "|  4.2624556 | 2.551909   |  1         | \n",
       "|  1.5505866 | 2.595164   | -1         | \n",
       "\n",
       "\n"
      ],
      "text/plain": [
       "  x1         x2       y \n",
       "1 -0.4367052 3.171451 -1\n",
       "2  5.1048972 1.227815  1\n",
       "3  3.9974518 1.049502  1\n",
       "4  2.5354540 1.242902  1\n",
       "5  4.2624556 2.551909  1\n",
       "6  1.5505866 2.595164 -1"
      ]
     },
     "metadata": {},
     "output_type": "display_data"
    }
   ],
   "source": [
    "# loading training data and testing data \n",
    "train = read.csv(file='Task1E_train.csv')\n",
    "test = read.csv(file='Task1E_test.csv')\n",
    "head(train)"
   ]
  },
  {
   "cell_type": "code",
   "execution_count": 3,
   "metadata": {
    "collapsed": true
   },
   "outputs": [],
   "source": [
    "bayesian_classifier = function(train, test, c0, c1, p0, p1, sigma0, sigma1){\n",
    "    \n",
    "    train.data = train[,1:2]\n",
    "    train.y = train[,3]\n",
    "    test.data = test[,1:2]\n",
    "    test.y = test[,3]\n",
    "    \n",
    "    \n",
    "    # Calculate class probabilities:\n",
    "    p0.hat = sum(train.y == c0 )/nrow(train)\n",
    "    p1.hat = 1 - p0.hat\n",
    "\n",
    "    # Estimate class means:\n",
    "    mu0.hat = colMeans(train.data[train.y==c0,])\n",
    "    mu1.hat = colMeans(train.data[train.y==c1,])\n",
    "\n",
    "    # class covariance matrices:\n",
    "    sigma0.hat = var(train.data[train.y==c0,])\n",
    "    sigma1.hat = var(train.data[train.y==c1,])\n",
    "    \n",
    "    \n",
    "    # shared covariance matrix:\n",
    "    sigma.hat = p0.hat * sigma0.hat + p1.hat * sigma1.hat\n",
    "\n",
    "    # calculate posteriors:\n",
    "    pos0 = p0.hat*dmvnorm(x=train.data, mean=mu0.hat, sigma=sigma.hat)\n",
    "    pos1 = p1.hat*dmvnorm(x=train.data, mean=mu1.hat, sigma=sigma.hat)\n",
    "\n",
    "    # calculate predictions:\n",
    "    train.predict = ifelse(pos0 > pos1, c0, c1)\n",
    "    test.predict = ifelse(p0.hat*dmvnorm(x=test.data, mean=mu0.hat, sigma=sigma.hat) > \n",
    "                           p1.hat*dmvnorm(x=test.data, mean=mu1.hat, sigma=sigma.hat), c0, c1)\n",
    "\n",
    "    # calculate training and test error:\n",
    "    # training error = false predictions / total data points for training data\n",
    "    train.error = (nrow(train.data) - sum(train.y==train.predict))/ nrow(train.data)\n",
    "\n",
    "    # test error = false predictions / total data points for test data\n",
    "    test.error = (nrow(train.data) - sum(train.y==test.predict))/nrow(train.data)\n",
    "    return (test.error)\n",
    "\n",
    "}"
   ]
  },
  {
   "cell_type": "code",
   "execution_count": 4,
   "metadata": {
    "collapsed": true
   },
   "outputs": [],
   "source": [
    "# auxiliary function that predicts class labels\n",
    "predict = function(w, X, c0, c1){\n",
    "    sig = sigmoid(w, X)\n",
    "    return(ifelse(sig>0.5, c1,c0))\n",
    "}\n",
    "    \n",
    "# auxiliary function that calculate a cost function\n",
    "cost = function (w, X, T, c0){\n",
    "    sig = sigmoid(w, X)\n",
    "    return(sum(ifelse(T==c0, 1-sig, sig)))\n",
    "}\n",
    "\n",
    "# Sigmoid function (=p(C1|X))\n",
    "sigmoid = function(w, x){\n",
    "    return(1.0/(1.0+exp(-w%*%t(cbind(1,x)))))    \n",
    "}\n"
   ]
  },
  {
   "cell_type": "code",
   "execution_count": 5,
   "metadata": {
    "collapsed": true
   },
   "outputs": [],
   "source": [
    "logistic_regression = function(train, test, c0, c1, t.max, learning.rate, epsilon){\n",
    "    \n",
    "    t = 1 # iteration counter\n",
    "    stop = FALSE\n",
    "    \n",
    "    train.data = train[,1:2]\n",
    "    train.y = train[,3]\n",
    "    test.data = test[,1:2]\n",
    "    test.y = test[,3]\n",
    "    \n",
    "    \n",
    "    # renaming to for the easy understanding of code\n",
    "    X = as.matrix(train.data)\n",
    "    T = ifelse(train.y==c0,0,1)\n",
    "    \n",
    "    # weights matrix to update with updated weights\n",
    "    W = matrix(,nrow=t.max, ncol=(ncol(X)+1))\n",
    "    W[1,] = runif(ncol(W)) # initial weight\n",
    "\n",
    "    # project data using the sigmoid function\n",
    "    Y = sigmoid(W[1,],X)\n",
    "    \n",
    "    costs = data.frame('t'=1:t.max)  # to trace the cost in each iteration\n",
    "    costs[1, 'cost'] = cost(W[1,],X,T, c0)\n",
    "\n",
    "\n",
    "    while(!stop){\n",
    "        # check termination criteria:\n",
    "        stop = t >= t.max | cost(W[t,],X,T, c0)<=epsilon\n",
    "\n",
    "        # shuffle data:\n",
    "        train.index = sample(1:nrow(train.data), nrow(train.data), replace = FALSE)\n",
    "        X = X[train.index,]\n",
    "        T = T[train.index]\n",
    "\n",
    "        # for each datapoint:\n",
    "        for (i in 1:nrow(train.data)){\n",
    "            \n",
    "            # check termination criteria:\n",
    "            if (t >= t.max | cost(W[t,],X,T, c0) <=epsilon) {stop=TRUE;break}\n",
    "\n",
    "            Y = sigmoid(W[t,],X)\n",
    "\n",
    "            # Update the weights\n",
    "            W[(t+1),] = W[t,] - learning.rate * (Y[i]-T[i]) * cbind(1, t(X[i,]))\n",
    "\n",
    "            # record the cost:\n",
    "            costs[(t+1), 'cost'] = cost(W[t,],X,T, c0)\n",
    "\n",
    "            # update the counter:\n",
    "            t = t + 1\n",
    "\n",
    "            # decrease learning rate:\n",
    "            learning.rate = learning.rate * 0.999\n",
    "        }\n",
    "    }\n",
    "    \n",
    "    costs = costs[1:t, ] # remove the NaN tail of the vector (in case of early stopping)\n",
    "\n",
    "    # final result:\n",
    "    w = W[t,]\n",
    "    \n",
    "    # calculate predictions:\n",
    "    train.predict = predict(w,train.data,c0,c1)\n",
    "    test.predict = predict(w,test.data,c0,c1)\n",
    "\n",
    "    # calculate training and test error(missclassifications)\n",
    "    train.error = (nrow(train.data) - sum(train.y==train.predict))/ nrow(train.data)\n",
    "\n",
    "    # test error = false predictions / total data points for test data\n",
    "    test.error = (nrow(test.data) - sum(test.y==test.predict))/nrow(test.data)\n",
    "    return (test.error)   \n",
    "}"
   ]
  },
  {
   "cell_type": "code",
   "execution_count": 6,
   "metadata": {
    "collapsed": true
   },
   "outputs": [],
   "source": [
    "## initialization of parameters\n",
    "c0 = +1; c1 = -1 # class labels\n",
    "\n",
    "# initializations for Bayesian Classifier\n",
    "mu0 = c(4.5, 0.5); p0 = 0.60\n",
    "mu1 = c(1.0, 4.0); p1 = 1 - p0\n",
    "sigma = matrix(c(1, 0, 0, 1), nrow=2, ncol=2, byrow = TRUE) # shared covariance matrix\n",
    "sigma0 = sigma\n",
    "sigma1 = sigma\n",
    "\n",
    "\n",
    "# initilizations for LR\n",
    "t.max <- 1000 # maximum number of iterations\n",
    "learning.rate <- 0.01\n",
    "epsilon <- 0.01 # a threshold on the cost (to terminate the process)\n"
   ]
  },
  {
   "cell_type": "code",
   "execution_count": 7,
   "metadata": {},
   "outputs": [
    {
     "data": {
      "text/html": [
       "<table>\n",
       "<thead><tr><th></th><th scope=col>trainSize</th><th scope=col>Bayesian.error</th><th scope=col>LR.error</th></tr></thead>\n",
       "<tbody>\n",
       "\t<tr><th scope=row>95</th><td>475       </td><td>0.4336842 </td><td>0.01684211</td></tr>\n",
       "\t<tr><th scope=row>96</th><td>480       </td><td>0.4458333 </td><td>0.01458333</td></tr>\n",
       "\t<tr><th scope=row>97</th><td>485       </td><td>0.4474227 </td><td>0.01855670</td></tr>\n",
       "\t<tr><th scope=row>98</th><td>490       </td><td>0.4224490 </td><td>0.01428571</td></tr>\n",
       "\t<tr><th scope=row>99</th><td>495       </td><td>0.4262626 </td><td>0.01414141</td></tr>\n",
       "\t<tr><th scope=row>100</th><td>500       </td><td>0.4640000 </td><td>0.01400000</td></tr>\n",
       "</tbody>\n",
       "</table>\n"
      ],
      "text/latex": [
       "\\begin{tabular}{r|lll}\n",
       "  & trainSize & Bayesian.error & LR.error\\\\\n",
       "\\hline\n",
       "\t95 & 475        & 0.4336842  & 0.01684211\\\\\n",
       "\t96 & 480        & 0.4458333  & 0.01458333\\\\\n",
       "\t97 & 485        & 0.4474227  & 0.01855670\\\\\n",
       "\t98 & 490        & 0.4224490  & 0.01428571\\\\\n",
       "\t99 & 495        & 0.4262626  & 0.01414141\\\\\n",
       "\t100 & 500        & 0.4640000  & 0.01400000\\\\\n",
       "\\end{tabular}\n"
      ],
      "text/markdown": [
       "\n",
       "| <!--/--> | trainSize | Bayesian.error | LR.error | \n",
       "|---|---|---|---|---|---|\n",
       "| 95 | 475        | 0.4336842  | 0.01684211 | \n",
       "| 96 | 480        | 0.4458333  | 0.01458333 | \n",
       "| 97 | 485        | 0.4474227  | 0.01855670 | \n",
       "| 98 | 490        | 0.4224490  | 0.01428571 | \n",
       "| 99 | 495        | 0.4262626  | 0.01414141 | \n",
       "| 100 | 500        | 0.4640000  | 0.01400000 | \n",
       "\n",
       "\n"
      ],
      "text/plain": [
       "    trainSize Bayesian.error LR.error  \n",
       "95  475       0.4336842      0.01684211\n",
       "96  480       0.4458333      0.01458333\n",
       "97  485       0.4474227      0.01855670\n",
       "98  490       0.4224490      0.01428571\n",
       "99  495       0.4262626      0.01414141\n",
       "100 500       0.4640000      0.01400000"
      ]
     },
     "metadata": {},
     "output_type": "display_data"
    }
   ],
   "source": [
    "get_sample = function (data,size){\n",
    "    \n",
    "    indices = sample(1:nrow(data),size,replace =F)\n",
    "    return(indices)\n",
    "    \n",
    "}\n",
    "\n",
    "\n",
    "seq = seq(from = 5, to = nrow(train), by = 5)\n",
    "\n",
    "error = data.frame('trainSize'=numeric(),\n",
    "                   'Bayesian.error' = double(),\n",
    "                   'LR.error'  = double())\n",
    "\n",
    "i = 1 # matrix index to store test errors\n",
    "for (size in seq){\n",
    "    train.sample = train[get_sample(train, size),]\n",
    "    test.sample = test[get_sample(test, size),]\n",
    "    \n",
    "    error[i, 1] = size\n",
    "    error[i, 2] = bayesian_classifier(train.sample, test.sample, c0, c1, p0, p1, sigma0, sigma1)\n",
    "    error[i, 3] = logistic_regression(train.sample, test.sample, c0, c1, t.max, learning.rate, epsilon)\n",
    "    i = i + 1\n",
    "}\n",
    "\n",
    "\n",
    "tail(error)"
   ]
  },
  {
   "cell_type": "code",
   "execution_count": 8,
   "metadata": {},
   "outputs": [
    {
     "data": {},
     "metadata": {},
     "output_type": "display_data"
    },
    {
     "data": {
      "image/png": "[encoded data removed]",
      "text/plain": [
       "plot without title"
      ]
     },
     "metadata": {},
     "output_type": "display_data"
    }
   ],
   "source": [
    "m.error = melt(as.data.frame(error), id='trainSize')\n",
    "names(m.error) = c('trainSize','type','error')\n",
    "\n",
    "ggplot(data=m.error, aes(x = trainSize, y = error, color=type)) + geom_line(size=.75) + \n",
    "        labs(title='Bayesian and LR test errors', x = \"Training Set Size\", y = \"Test Error\") +  theme_minimal()"
   ]
  },
  {
   "cell_type": "markdown",
   "metadata": {},
   "source": [
    "### Report\n",
    "\n",
    "i. When the training set size is increased, both the errors reached zero and increased suddenly to a ighest point and then became reduced to a optimal error. Upon further increase of training size, both errors kept fluctuating but the difference is minimal.\n",
    "\n",
    "ii. In this case Logistic regression is most suitable irrespective of the data set size."
   ]
  },
  {
   "cell_type": "code",
   "execution_count": null,
   "metadata": {
    "collapsed": true
   },
   "outputs": [],
   "source": []
  }
 ],
 "metadata": {
  "kernelspec": {
   "display_name": "R",
   "language": "R",
   "name": "ir"
  },
  "language_info": {
   "codemirror_mode": "r",
   "file_extension": ".r",
   "mimetype": "text/x-r-source",
   "name": "R",
   "pygments_lexer": "r",
   "version": "3.4.3"
  }
 },
 "nbformat": 4,
 "nbformat_minor": 2
}
